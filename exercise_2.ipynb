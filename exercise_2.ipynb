{
 "cells": [
  {
   "cell_type": "code",
   "execution_count": 1,
   "id": "e45d6622",
   "metadata": {},
   "outputs": [],
   "source": [
    "import numpy as np\n"
   ]
  },
  {
   "cell_type": "code",
   "execution_count": 2,
   "id": "5014d21c",
   "metadata": {},
   "outputs": [
    {
     "name": "stdout",
     "output_type": "stream",
     "text": [
      "Give the number of rows:2\n"
     ]
    }
   ],
   "source": [
    "Rows = int(input(\"Give the number of rows:\"))  \n"
   ]
  },
  {
   "cell_type": "code",
   "execution_count": 13,
   "id": "bba81434",
   "metadata": {},
   "outputs": [
    {
     "name": "stdout",
     "output_type": "stream",
     "text": [
      "Give the number of columns:2\n"
     ]
    }
   ],
   "source": [
    "\n",
    "Columns = int(input(\"Give the number of columns:\"))  \n",
    "  \n"
   ]
  },
  {
   "cell_type": "code",
   "execution_count": 14,
   "id": "5490bb23",
   "metadata": {},
   "outputs": [
    {
     "name": "stdout",
     "output_type": "stream",
     "text": [
      "Please write the elements of the matrix in a single line and separated by a space: \n",
      "2 4 5 6\n"
     ]
    }
   ],
   "source": [
    "print(\"Please write the elements of the matrix in a single line and separated by a space: \")  \n",
    "elements = list(map(int, input().split()))   \n"
   ]
  },
  {
   "cell_type": "code",
   "execution_count": 16,
   "id": "e16fb268",
   "metadata": {},
   "outputs": [
    {
     "name": "stdout",
     "output_type": "stream",
     "text": [
      "[[2 4]\n",
      " [5 6]]\n"
     ]
    }
   ],
   "source": [
    "matrixx = np.array(elements).reshape(Rows, Columns)  \n",
    "print(matrixx)   \n"
   ]
  },
  {
   "cell_type": "code",
   "execution_count": 17,
   "id": "93006271",
   "metadata": {},
   "outputs": [
    {
     "name": "stdout",
     "output_type": "stream",
     "text": [
      "Give the number of rows:2\n",
      "Give the number of columns:2\n"
     ]
    }
   ],
   "source": [
    "Rows = int(input(\"Give the number of rows:\"))\n",
    "Columns = int(input(\"Give the number of columns:\"))  "
   ]
  },
  {
   "cell_type": "code",
   "execution_count": 18,
   "id": "758b4e74",
   "metadata": {},
   "outputs": [
    {
     "name": "stdout",
     "output_type": "stream",
     "text": [
      "Please write the elements of the matrix in a single line and separated by a space: \n",
      "4 3 2 9\n"
     ]
    }
   ],
   "source": [
    "print(\"Please write the elements of the matrix in a single line and separated by a space: \")  \n",
    "elements = list(map(int, input().split()))   "
   ]
  },
  {
   "cell_type": "code",
   "execution_count": 19,
   "id": "a774c8f7",
   "metadata": {},
   "outputs": [
    {
     "name": "stdout",
     "output_type": "stream",
     "text": [
      "[[4 3]\n",
      " [2 9]]\n"
     ]
    }
   ],
   "source": [
    "matrixx2 = np.array(elements).reshape(Rows, Columns)  \n",
    "print(matrixx2) "
   ]
  },
  {
   "cell_type": "code",
   "execution_count": null,
   "id": "7abbfb42",
   "metadata": {},
   "outputs": [],
   "source": []
  },
  {
   "cell_type": "code",
   "execution_count": 21,
   "id": "e8d440a0",
   "metadata": {},
   "outputs": [
    {
     "name": "stdout",
     "output_type": "stream",
     "text": [
      "[[16 42]\n",
      " [32 69]]\n"
     ]
    }
   ],
   "source": [
    "#dot product\n",
    "d=np.dot(matrixx,matrixx2)\n",
    "print(d)"
   ]
  },
  {
   "cell_type": "code",
   "execution_count": null,
   "id": "48926442",
   "metadata": {},
   "outputs": [],
   "source": []
  },
  {
   "cell_type": "code",
   "execution_count": 26,
   "id": "f8625740",
   "metadata": {},
   "outputs": [
    {
     "name": "stdout",
     "output_type": "stream",
     "text": [
      "transpose of first matrix\n",
      " [[2 5]\n",
      " [4 6]]\n",
      "transpose of second matrix\n",
      " [[4 2]\n",
      " [3 9]]\n"
     ]
    }
   ],
   "source": [
    "#transpose\n",
    "t = matrixx.transpose()\n",
    "t2 = matrixx2.transpose()\n",
    "print(\"transpose of first matrix\\n\",t)\n",
    "print(\"transpose of second matrix\\n\",t2)"
   ]
  },
  {
   "cell_type": "code",
   "execution_count": null,
   "id": "8c1b3a88",
   "metadata": {},
   "outputs": [],
   "source": []
  },
  {
   "cell_type": "code",
   "execution_count": 27,
   "id": "920a7c03",
   "metadata": {},
   "outputs": [
    {
     "name": "stdout",
     "output_type": "stream",
     "text": [
      "original matrix\n",
      " [[2 4]\n",
      " [5 6]]\n",
      "Trace of matrix\n",
      " 8\n"
     ]
    }
   ],
   "source": [
    "#trace\n",
    "print(\"original matrix\\n\",matrixx)\n",
    "tr = np.trace(matrixx)\n",
    "print(\"Trace of matrix\\n\",tr)"
   ]
  },
  {
   "cell_type": "code",
   "execution_count": null,
   "id": "36f92312",
   "metadata": {},
   "outputs": [],
   "source": []
  },
  {
   "cell_type": "code",
   "execution_count": 28,
   "id": "ddbc7705",
   "metadata": {},
   "outputs": [
    {
     "name": "stdout",
     "output_type": "stream",
     "text": [
      "original matrix\n",
      " [[2 4]\n",
      " [5 6]]\n",
      "Rank of matrix\n",
      " 2\n"
     ]
    }
   ],
   "source": [
    "#Rank\n",
    "rank = np.linalg.matrix_rank(matrixx)\n",
    "print(\"original matrix\\n\",matrixx)\n",
    "print(\"Rank of matrix\\n\",rank)"
   ]
  },
  {
   "cell_type": "code",
   "execution_count": null,
   "id": "e9c6e3c8",
   "metadata": {},
   "outputs": [],
   "source": []
  },
  {
   "cell_type": "code",
   "execution_count": 29,
   "id": "8ac06fd1",
   "metadata": {},
   "outputs": [
    {
     "name": "stdout",
     "output_type": "stream",
     "text": [
      "original matrix\n",
      " [[2 4]\n",
      " [5 6]]\n",
      "Determinant of matrix\n",
      " -7.999999999999998\n"
     ]
    }
   ],
   "source": [
    "#determinant\n",
    "det= np.linalg.det(matrixx)\n",
    "print(\"original matrix\\n\",matrixx)\n",
    "print(\"Determinant of matrix\\n\",det)"
   ]
  },
  {
   "cell_type": "code",
   "execution_count": null,
   "id": "ef1b5d66",
   "metadata": {},
   "outputs": [],
   "source": []
  },
  {
   "cell_type": "code",
   "execution_count": 32,
   "id": "5b086dbc",
   "metadata": {},
   "outputs": [
    {
     "name": "stdout",
     "output_type": "stream",
     "text": [
      "original matrix\n",
      " [[2 4]\n",
      " [5 6]]\n",
      "Inverse of matrix\n",
      " [[-0.75   0.5  ]\n",
      " [ 0.625 -0.25 ]]\n"
     ]
    }
   ],
   "source": [
    "#inverse\n",
    "inv=np.linalg.inv(matrixx)\n",
    "print(\"original matrix\\n\",matrixx)\n",
    "print(\"Inverse of matrix\\n\",inv)"
   ]
  },
  {
   "cell_type": "code",
   "execution_count": null,
   "id": "cc60b1a8",
   "metadata": {},
   "outputs": [],
   "source": []
  },
  {
   "cell_type": "code",
   "execution_count": 36,
   "id": "8c0a4bca",
   "metadata": {},
   "outputs": [
    {
     "name": "stdout",
     "output_type": "stream",
     "text": [
      "original matrix\n",
      " [[2 4]\n",
      " [5 6]]\n",
      "eigen values of the matrix\n",
      " [-0.89897949  8.89897949]\n",
      "eigen vector of the matrix\n",
      " [[-0.8097086  -0.50158596]\n",
      " [ 0.58683216 -0.86510781]]\n"
     ]
    }
   ],
   "source": [
    "#eigen values and eigen vectors\n",
    "w, v = np.linalg.eig(matrixx)\n",
    "print(\"original matrix\\n\",matrixx)\n",
    "print(\"eigen values of the matrix\\n\",w)\n",
    "print(\"eigen vector of the matrix\\n\",v)"
   ]
  },
  {
   "cell_type": "code",
   "execution_count": null,
   "id": "f7931ece",
   "metadata": {},
   "outputs": [],
   "source": []
  }
 ],
 "metadata": {
  "kernelspec": {
   "display_name": "Python 3 (ipykernel)",
   "language": "python",
   "name": "python3"
  },
  "language_info": {
   "codemirror_mode": {
    "name": "ipython",
    "version": 3
   },
   "file_extension": ".py",
   "mimetype": "text/x-python",
   "name": "python",
   "nbconvert_exporter": "python",
   "pygments_lexer": "ipython3",
   "version": "3.9.12"
  }
 },
 "nbformat": 4,
 "nbformat_minor": 5
}
