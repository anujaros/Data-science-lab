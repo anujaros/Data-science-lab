{
 "cells": [
  {
   "cell_type": "code",
   "execution_count": 6,
   "id": "08af5623-d859-4349-b455-1baeca5c64c4",
   "metadata": {},
   "outputs": [
    {
     "name": "stdout",
     "output_type": "stream",
     "text": [
      "0    1\n",
      "1    2\n",
      "2    3\n",
      "3    4\n",
      "4    5\n",
      "dtype: int64\n"
     ]
    }
   ],
   "source": [
    "import pandas as pd\n",
    "lst =[1,2,3,4,5]\n",
    "print(pd.Series(lst))\n"
   ]
  },
  {
   "cell_type": "code",
   "execution_count": 10,
   "id": "1dc57f76-327a-4689-a201-61e7bb835ab2",
   "metadata": {},
   "outputs": [
    {
     "name": "stdout",
     "output_type": "stream",
     "text": [
      "DatetimeIndex(['2021-05-01', '2021-05-02', '2021-05-03', '2021-05-04',\n",
      "               '2021-05-05', '2021-05-06', '2021-05-07', '2021-05-08',\n",
      "               '2021-05-09', '2021-05-10', '2021-05-11', '2021-05-12'],\n",
      "              dtype='datetime64[ns]', freq='D')\n"
     ]
    }
   ],
   "source": [
    "#EXERCISE 2\n",
    "dat = pd.date_range(start='05-01-2021' , end='05-12-2021')\n",
    "print(dat)"
   ]
  },
  {
   "cell_type": "code",
   "execution_count": 14,
   "id": "2ac9307e-994c-422c-b88c-324d5b8a6725",
   "metadata": {},
   "outputs": [
    {
     "name": "stdout",
     "output_type": "stream",
     "text": [
      "    name  Age  Courses\n",
      "0   john   21       CS\n",
      "1  sarah   20  Physics\n"
     ]
    }
   ],
   "source": [
    "#EXERCISE 3\n",
    "data= {'name': ['john','sarah'],\n",
    "       'Age': [21,20],\n",
    "        'Courses': ['CS','Physics']}\n",
    "df = pd.DataFrame.from_dict(data)\n",
    "print(df)"
   ]
  },
  {
   "cell_type": "code",
   "execution_count": 16,
   "id": "c1544283-0826-40bf-9f02-a25602b52709",
   "metadata": {},
   "outputs": [
    {
     "name": "stdout",
     "output_type": "stream",
     "text": [
      "    Fruits  Price\n",
      "0    Apple    150\n",
      "1   orange     65\n",
      "2  avacado    165\n"
     ]
    }
   ],
   "source": [
    "#EXERCISE 4\n",
    "lst =[ ['Apple',150],\n",
    "      ['orange',65],\n",
    "      ['avacado',165]]\n",
    "df = pd.DataFrame(lst,columns =['Fruits','Price'])\n",
    "print(df)"
   ]
  },
  {
   "cell_type": "code",
   "execution_count": 17,
   "id": "b28a007d-7e45-4dab-b3c5-c5333966e1f7",
   "metadata": {},
   "outputs": [
    {
     "name": "stdout",
     "output_type": "stream",
     "text": [
      "      Name  Age  Gender\n",
      "0  Anamika   22  Female\n",
      "1      Ann   22  Female\n",
      "2   Joseph   20    Male\n"
     ]
    }
   ],
   "source": [
    "#EXERCISE 5\n",
    "df = pd.read_csv(\"details.csv\")\n",
    "print(df)\n"
   ]
  },
  {
   "cell_type": "code",
   "execution_count": 22,
   "id": "4723a0fb-aee2-41cb-b6b4-3e2cd457ced8",
   "metadata": {},
   "outputs": [
    {
     "name": "stdout",
     "output_type": "stream",
     "text": [
      "original Dataframe:\n",
      "        Name  Score  Attempts\n",
      "0       Anna   12.5         1\n",
      "1       Elsa    9.0         0\n",
      "2  Christoph   16.5         2\n",
      "\n",
      "Sorted Dataframe:\n",
      "        Name  Score  Attempts\n",
      "1       Elsa    9.0         0\n",
      "0       Anna   12.5         1\n",
      "2  Christoph   16.5         2\n"
     ]
    }
   ],
   "source": [
    "#EXERCISE 6\n",
    "datafra ={'Name':['Anna','Elsa','Christoph'],\n",
    "          'Score':[12.5,9,16.5],\n",
    "           'Attempts':[1,0,2]}\n",
    "df = pd.DataFrame(datafra)\n",
    "print(\"original Dataframe:\")\n",
    "print(df)\n",
    "print(\"\\nSorted Dataframe:\")\n",
    "print(df.sort_values(['Attempts','Name']))"
   ]
  },
  {
   "cell_type": "code",
   "execution_count": 27,
   "id": "4a787551-9e28-4f1c-bab2-c45f1410e183",
   "metadata": {},
   "outputs": [
    {
     "name": "stdout",
     "output_type": "stream",
     "text": [
      "   name  Marks\n",
      "a  Anna     85\n",
      "b  elss     77\n",
      "Dataframe with default index\n",
      "  index  name  Marks\n",
      "0     a  Anna     85\n",
      "1     b  elss     77\n"
     ]
    }
   ],
   "source": [
    "#EXERCISE 7\n",
    "stud ={'name':['Anna','elss'],\n",
    "       'Marks':[85,77]}\n",
    "stud_df=pd.DataFrame(stud,index=['a','b'])\n",
    "print(stud_df)\n",
    "print(\"Dataframe with default index\")\n",
    "stud1=stud_df.reset_index()\n",
    "print(stud1)\n"
   ]
  },
  {
   "cell_type": "code",
   "execution_count": 28,
   "id": "cac9c040-13e4-4887-85ad-ba57ea005bf3",
   "metadata": {},
   "outputs": [
    {
     "name": "stdout",
     "output_type": "stream",
     "text": [
      "   Name  Score  Attempts\n",
      "0  Anna   12.5         1\n",
      "1  Elsa    9.0         0\n"
     ]
    }
   ],
   "source": [
    "#EXERCISE 8\n",
    "datafra ={'Name':['Anna','Elsa','Christoph'],\n",
    "          'Score':[12.5,9,16.5],\n",
    "           'Attempts':[1,0,2]}\n",
    "df = pd.DataFrame(datafra)\n",
    "print(df.head(2))\n"
   ]
  },
  {
   "cell_type": "code",
   "execution_count": 29,
   "id": "8c1846be-6d9d-42b1-b890-6dd1cdd2dc5f",
   "metadata": {},
   "outputs": [
    {
     "name": "stdout",
     "output_type": "stream",
     "text": [
      "Occupation\n",
      "Doctor      77500.0\n",
      "Engineer    62500.0\n",
      "Teacher     45000.0\n",
      "Name: Salary, dtype: float64\n"
     ]
    }
   ],
   "source": [
    "#EXERCISE 9\n",
    "data = {\n",
    "    'Name': ['Alice', 'Bob', 'Charlie', 'David', 'Eve'],\n",
    "    'Occupation': ['Engineer', 'Teacher', 'Doctor', 'Engineer', 'Doctor'],\n",
    "    'Salary': [60000, 45000, 75000, 65000, 80000]\n",
    "}\n",
    "\n",
    "df = pd.DataFrame(data)\n",
    "\n",
    "average_salary_per_occupation = df.groupby('Occupation')['Salary'].mean()\n",
    "\n",
    "print(average_salary_per_occupation)"
   ]
  },
  {
   "cell_type": "code",
   "execution_count": 31,
   "id": "3a3dcd2b-51f2-4896-8724-72015dd5b18e",
   "metadata": {},
   "outputs": [
    {
     "name": "stdout",
     "output_type": "stream",
     "text": [
      "     A    B    C\n",
      "0  1.0  0.0  1.0\n",
      "1  2.0  2.0  2.0\n",
      "2  0.0  3.0  3.0\n",
      "3  4.0  0.0  4.0\n",
      "4  5.0  5.0  0.0\n"
     ]
    }
   ],
   "source": [
    "#EXERCISE 10\n",
    "import numpy as np\n",
    "data = {\n",
    "    'A': [1, 2, np.nan, 4, 5],\n",
    "    'B': [np.nan, 2, 3, np.nan, 5],\n",
    "    'C': [1, 2, 3, 4, np.nan]\n",
    "}\n",
    "\n",
    "df = pd.DataFrame(data)\n",
    "\n",
    "df_filled = df.fillna(0)\n",
    "\n",
    "\n",
    "print(df_filled)"
   ]
  },
  {
   "cell_type": "code",
   "execution_count": 32,
   "id": "716c4c51-1123-4e9b-a544-327550d71138",
   "metadata": {},
   "outputs": [
    {
     "name": "stdout",
     "output_type": "stream",
     "text": [
      "       cname  profit\n",
      "0  Company A    True\n",
      "1  Company B   False\n",
      "2  Company C   False\n",
      "3  Company D    True\n"
     ]
    }
   ],
   "source": [
    "#EXERCISE 11\n",
    "import pandas as pd\n",
    "\n",
    "data = {\n",
    "    'cname': ['Company A', 'Company B', 'Company C', 'Company D'],\n",
    "    'profit': [10000, -5000, 0, 7500]\n",
    "}\n",
    "\n",
    "df = pd.DataFrame(data)\n",
    "\n",
    "df['profit'] = df['profit'].apply(lambda x: x > 0)\n",
    "\n",
    "print(df)"
   ]
  },
  {
   "cell_type": "code",
   "execution_count": 33,
   "id": "ceb0ac01-fa97-490d-bffa-592ee75f362b",
   "metadata": {},
   "outputs": [
    {
     "name": "stdout",
     "output_type": "stream",
     "text": [
      "   eid    ename  stipend  position\n",
      "0  101    Alice     5000  Engineer\n",
      "1  102      Bob     6000       NaN\n",
      "2  103  Charlie     5500   Manager\n",
      "3  104    David     7000   Analyst\n"
     ]
    }
   ],
   "source": [
    "#EXERCISE 12\n",
    "data1 = {\n",
    "    'eid': [101, 102, 103, 104],\n",
    "    'ename': ['Alice', 'Bob', 'Charlie', 'David'],\n",
    "    'stipend': [5000, 6000, 5500, 7000]\n",
    "}\n",
    "\n",
    "data2 = {\n",
    "    'eid': [101, 103, 104, 105],\n",
    "    'designation': ['Engineer', 'Manager', 'Analyst', 'Technician']\n",
    "}\n",
    "\n",
    "df1 = pd.DataFrame(data1)\n",
    "df2 = pd.DataFrame(data2)\n",
    "\n",
    "result_df = df1.merge(df2, on='eid', how='left')\n",
    "\n",
    "result_df = result_df.rename(columns={'designation': 'position'})\n",
    "\n",
    "print(result_df)"
   ]
  }
 ],
 "metadata": {
  "kernelspec": {
   "display_name": "Python 3 (ipykernel)",
   "language": "python",
   "name": "python3"
  },
  "language_info": {
   "codemirror_mode": {
    "name": "ipython",
    "version": 3
   },
   "file_extension": ".py",
   "mimetype": "text/x-python",
   "name": "python",
   "nbconvert_exporter": "python",
   "pygments_lexer": "ipython3",
   "version": "3.10.12"
  }
 },
 "nbformat": 4,
 "nbformat_minor": 5
}
